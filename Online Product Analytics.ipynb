{
 "cells": [
  {
   "cell_type": "markdown",
   "id": "46027e0f",
   "metadata": {},
   "source": [
    "## 1. Import Libraries"
   ]
  },
  {
   "cell_type": "code",
   "execution_count": 76,
   "id": "af22b4bf",
   "metadata": {},
   "outputs": [],
   "source": [
    "import numpy as np\n",
    "import pandas as pd\n",
    "\n",
    "import matplotlib.pyplot as plt\n",
    "import seaborn as sns\n",
    "\n",
    "import warnings\n",
    "warnings.filterwarnings('ignore')"
   ]
  },
  {
   "cell_type": "markdown",
   "id": "046f30c8",
   "metadata": {},
   "source": [
    "## 2. Data"
   ]
  },
  {
   "cell_type": "code",
   "execution_count": 2,
   "id": "a55fc806",
   "metadata": {},
   "outputs": [],
   "source": [
    "df = pd.read_excel(r'data/customer.xlsx')"
   ]
  },
  {
   "cell_type": "markdown",
   "id": "edd27ffd",
   "metadata": {},
   "source": [
    "## 3. EDA"
   ]
  },
  {
   "cell_type": "markdown",
   "id": "01309d8a",
   "metadata": {},
   "source": [
    "### 3a. Description"
   ]
  },
  {
   "cell_type": "code",
   "execution_count": 3,
   "id": "230aec5f",
   "metadata": {},
   "outputs": [
    {
     "data": {
      "text/html": [
       "<div>\n",
       "<style scoped>\n",
       "    .dataframe tbody tr th:only-of-type {\n",
       "        vertical-align: middle;\n",
       "    }\n",
       "\n",
       "    .dataframe tbody tr th {\n",
       "        vertical-align: top;\n",
       "    }\n",
       "\n",
       "    .dataframe thead th {\n",
       "        text-align: right;\n",
       "    }\n",
       "</style>\n",
       "<table border=\"1\" class=\"dataframe\">\n",
       "  <thead>\n",
       "    <tr style=\"text-align: right;\">\n",
       "      <th></th>\n",
       "      <th>InvoiceNo</th>\n",
       "      <th>StockCode</th>\n",
       "      <th>Description</th>\n",
       "      <th>Quantity</th>\n",
       "      <th>InvoiceDate</th>\n",
       "      <th>UnitPrice</th>\n",
       "      <th>CustomerID</th>\n",
       "      <th>Country</th>\n",
       "    </tr>\n",
       "  </thead>\n",
       "  <tbody>\n",
       "    <tr>\n",
       "      <th>0</th>\n",
       "      <td>536365</td>\n",
       "      <td>85123A</td>\n",
       "      <td>WHITE HANGING HEART T-LIGHT HOLDER</td>\n",
       "      <td>6</td>\n",
       "      <td>2010-12-01 08:26:00</td>\n",
       "      <td>2.55</td>\n",
       "      <td>17850.0</td>\n",
       "      <td>United Kingdom</td>\n",
       "    </tr>\n",
       "    <tr>\n",
       "      <th>1</th>\n",
       "      <td>536365</td>\n",
       "      <td>71053</td>\n",
       "      <td>WHITE METAL LANTERN</td>\n",
       "      <td>6</td>\n",
       "      <td>2010-12-01 08:26:00</td>\n",
       "      <td>3.39</td>\n",
       "      <td>17850.0</td>\n",
       "      <td>United Kingdom</td>\n",
       "    </tr>\n",
       "    <tr>\n",
       "      <th>2</th>\n",
       "      <td>536365</td>\n",
       "      <td>84406B</td>\n",
       "      <td>CREAM CUPID HEARTS COAT HANGER</td>\n",
       "      <td>8</td>\n",
       "      <td>2010-12-01 08:26:00</td>\n",
       "      <td>2.75</td>\n",
       "      <td>17850.0</td>\n",
       "      <td>United Kingdom</td>\n",
       "    </tr>\n",
       "    <tr>\n",
       "      <th>3</th>\n",
       "      <td>536365</td>\n",
       "      <td>84029G</td>\n",
       "      <td>KNITTED UNION FLAG HOT WATER BOTTLE</td>\n",
       "      <td>6</td>\n",
       "      <td>2010-12-01 08:26:00</td>\n",
       "      <td>3.39</td>\n",
       "      <td>17850.0</td>\n",
       "      <td>United Kingdom</td>\n",
       "    </tr>\n",
       "    <tr>\n",
       "      <th>4</th>\n",
       "      <td>536365</td>\n",
       "      <td>84029E</td>\n",
       "      <td>RED WOOLLY HOTTIE WHITE HEART.</td>\n",
       "      <td>6</td>\n",
       "      <td>2010-12-01 08:26:00</td>\n",
       "      <td>3.39</td>\n",
       "      <td>17850.0</td>\n",
       "      <td>United Kingdom</td>\n",
       "    </tr>\n",
       "  </tbody>\n",
       "</table>\n",
       "</div>"
      ],
      "text/plain": [
       "  InvoiceNo StockCode                          Description  Quantity   \n",
       "0    536365    85123A   WHITE HANGING HEART T-LIGHT HOLDER         6  \\\n",
       "1    536365     71053                  WHITE METAL LANTERN         6   \n",
       "2    536365    84406B       CREAM CUPID HEARTS COAT HANGER         8   \n",
       "3    536365    84029G  KNITTED UNION FLAG HOT WATER BOTTLE         6   \n",
       "4    536365    84029E       RED WOOLLY HOTTIE WHITE HEART.         6   \n",
       "\n",
       "          InvoiceDate  UnitPrice  CustomerID         Country  \n",
       "0 2010-12-01 08:26:00       2.55     17850.0  United Kingdom  \n",
       "1 2010-12-01 08:26:00       3.39     17850.0  United Kingdom  \n",
       "2 2010-12-01 08:26:00       2.75     17850.0  United Kingdom  \n",
       "3 2010-12-01 08:26:00       3.39     17850.0  United Kingdom  \n",
       "4 2010-12-01 08:26:00       3.39     17850.0  United Kingdom  "
      ]
     },
     "execution_count": 3,
     "metadata": {},
     "output_type": "execute_result"
    }
   ],
   "source": [
    "df.head()"
   ]
  },
  {
   "cell_type": "code",
   "execution_count": 4,
   "id": "4eccfdda",
   "metadata": {},
   "outputs": [
    {
     "data": {
      "text/html": [
       "<div>\n",
       "<style scoped>\n",
       "    .dataframe tbody tr th:only-of-type {\n",
       "        vertical-align: middle;\n",
       "    }\n",
       "\n",
       "    .dataframe tbody tr th {\n",
       "        vertical-align: top;\n",
       "    }\n",
       "\n",
       "    .dataframe thead th {\n",
       "        text-align: right;\n",
       "    }\n",
       "</style>\n",
       "<table border=\"1\" class=\"dataframe\">\n",
       "  <thead>\n",
       "    <tr style=\"text-align: right;\">\n",
       "      <th></th>\n",
       "      <th>303779</th>\n",
       "      <th>80187</th>\n",
       "      <th>62392</th>\n",
       "      <th>190076</th>\n",
       "      <th>211700</th>\n",
       "    </tr>\n",
       "  </thead>\n",
       "  <tbody>\n",
       "    <tr>\n",
       "      <th>InvoiceNo</th>\n",
       "      <td>563555</td>\n",
       "      <td>543022</td>\n",
       "      <td>541497</td>\n",
       "      <td>553182</td>\n",
       "      <td>555397</td>\n",
       "    </tr>\n",
       "    <tr>\n",
       "      <th>StockCode</th>\n",
       "      <td>20726</td>\n",
       "      <td>21955</td>\n",
       "      <td>22248</td>\n",
       "      <td>23158</td>\n",
       "      <td>21090</td>\n",
       "    </tr>\n",
       "    <tr>\n",
       "      <th>Description</th>\n",
       "      <td>LUNCH BAG WOODLAND</td>\n",
       "      <td>DOORMAT UNION JACK GUNS AND ROSES</td>\n",
       "      <td>DECORATION  PINK CHICK MAGIC GARDEN</td>\n",
       "      <td>SET OF 5 LUCKY CAT MAGNETS</td>\n",
       "      <td>SET/6 COLLAGE PAPER PLATES</td>\n",
       "    </tr>\n",
       "    <tr>\n",
       "      <th>Quantity</th>\n",
       "      <td>2</td>\n",
       "      <td>2</td>\n",
       "      <td>5</td>\n",
       "      <td>12</td>\n",
       "      <td>10</td>\n",
       "    </tr>\n",
       "    <tr>\n",
       "      <th>InvoiceDate</th>\n",
       "      <td>2011-08-17 13:21:00</td>\n",
       "      <td>2011-02-02 14:37:00</td>\n",
       "      <td>2011-01-18 15:19:00</td>\n",
       "      <td>2011-05-15 12:21:00</td>\n",
       "      <td>2011-06-02 17:26:00</td>\n",
       "    </tr>\n",
       "    <tr>\n",
       "      <th>UnitPrice</th>\n",
       "      <td>1.65</td>\n",
       "      <td>7.95</td>\n",
       "      <td>0.79</td>\n",
       "      <td>2.08</td>\n",
       "      <td>0.83</td>\n",
       "    </tr>\n",
       "    <tr>\n",
       "      <th>CustomerID</th>\n",
       "      <td>16755.0</td>\n",
       "      <td>16771.0</td>\n",
       "      <td>NaN</td>\n",
       "      <td>17107.0</td>\n",
       "      <td>NaN</td>\n",
       "    </tr>\n",
       "    <tr>\n",
       "      <th>Country</th>\n",
       "      <td>United Kingdom</td>\n",
       "      <td>United Kingdom</td>\n",
       "      <td>United Kingdom</td>\n",
       "      <td>United Kingdom</td>\n",
       "      <td>United Kingdom</td>\n",
       "    </tr>\n",
       "  </tbody>\n",
       "</table>\n",
       "</div>"
      ],
      "text/plain": [
       "                          303779                             80187    \n",
       "InvoiceNo                 563555                             543022  \\\n",
       "StockCode                  20726                              21955   \n",
       "Description   LUNCH BAG WOODLAND  DOORMAT UNION JACK GUNS AND ROSES   \n",
       "Quantity                       2                                  2   \n",
       "InvoiceDate  2011-08-17 13:21:00                2011-02-02 14:37:00   \n",
       "UnitPrice                   1.65                               7.95   \n",
       "CustomerID               16755.0                            16771.0   \n",
       "Country           United Kingdom                     United Kingdom   \n",
       "\n",
       "                                          62392                        190076   \n",
       "InvoiceNo                                 541497                       553182  \\\n",
       "StockCode                                  22248                        23158   \n",
       "Description  DECORATION  PINK CHICK MAGIC GARDEN  SET OF 5 LUCKY CAT MAGNETS    \n",
       "Quantity                                       5                           12   \n",
       "InvoiceDate                  2011-01-18 15:19:00          2011-05-15 12:21:00   \n",
       "UnitPrice                                   0.79                         2.08   \n",
       "CustomerID                                   NaN                      17107.0   \n",
       "Country                           United Kingdom               United Kingdom   \n",
       "\n",
       "                                 211700  \n",
       "InvoiceNo                        555397  \n",
       "StockCode                         21090  \n",
       "Description  SET/6 COLLAGE PAPER PLATES  \n",
       "Quantity                             10  \n",
       "InvoiceDate         2011-06-02 17:26:00  \n",
       "UnitPrice                          0.83  \n",
       "CustomerID                          NaN  \n",
       "Country                  United Kingdom  "
      ]
     },
     "execution_count": 4,
     "metadata": {},
     "output_type": "execute_result"
    }
   ],
   "source": [
    "df.sample(5).T"
   ]
  },
  {
   "cell_type": "code",
   "execution_count": 5,
   "id": "6b38570e",
   "metadata": {},
   "outputs": [
    {
     "data": {
      "text/html": [
       "<div>\n",
       "<style scoped>\n",
       "    .dataframe tbody tr th:only-of-type {\n",
       "        vertical-align: middle;\n",
       "    }\n",
       "\n",
       "    .dataframe tbody tr th {\n",
       "        vertical-align: top;\n",
       "    }\n",
       "\n",
       "    .dataframe thead th {\n",
       "        text-align: right;\n",
       "    }\n",
       "</style>\n",
       "<table border=\"1\" class=\"dataframe\">\n",
       "  <thead>\n",
       "    <tr style=\"text-align: right;\">\n",
       "      <th></th>\n",
       "      <th>Quantity</th>\n",
       "      <th>InvoiceDate</th>\n",
       "      <th>UnitPrice</th>\n",
       "      <th>CustomerID</th>\n",
       "    </tr>\n",
       "  </thead>\n",
       "  <tbody>\n",
       "    <tr>\n",
       "      <th>count</th>\n",
       "      <td>541909.000000</td>\n",
       "      <td>541909</td>\n",
       "      <td>541909.000000</td>\n",
       "      <td>406829.000000</td>\n",
       "    </tr>\n",
       "    <tr>\n",
       "      <th>mean</th>\n",
       "      <td>9.552250</td>\n",
       "      <td>2011-07-04 13:34:57.156386048</td>\n",
       "      <td>4.611114</td>\n",
       "      <td>15287.690570</td>\n",
       "    </tr>\n",
       "    <tr>\n",
       "      <th>min</th>\n",
       "      <td>-80995.000000</td>\n",
       "      <td>2010-12-01 08:26:00</td>\n",
       "      <td>-11062.060000</td>\n",
       "      <td>12346.000000</td>\n",
       "    </tr>\n",
       "    <tr>\n",
       "      <th>25%</th>\n",
       "      <td>1.000000</td>\n",
       "      <td>2011-03-28 11:34:00</td>\n",
       "      <td>1.250000</td>\n",
       "      <td>13953.000000</td>\n",
       "    </tr>\n",
       "    <tr>\n",
       "      <th>50%</th>\n",
       "      <td>3.000000</td>\n",
       "      <td>2011-07-19 17:17:00</td>\n",
       "      <td>2.080000</td>\n",
       "      <td>15152.000000</td>\n",
       "    </tr>\n",
       "    <tr>\n",
       "      <th>75%</th>\n",
       "      <td>10.000000</td>\n",
       "      <td>2011-10-19 11:27:00</td>\n",
       "      <td>4.130000</td>\n",
       "      <td>16791.000000</td>\n",
       "    </tr>\n",
       "    <tr>\n",
       "      <th>max</th>\n",
       "      <td>80995.000000</td>\n",
       "      <td>2011-12-09 12:50:00</td>\n",
       "      <td>38970.000000</td>\n",
       "      <td>18287.000000</td>\n",
       "    </tr>\n",
       "    <tr>\n",
       "      <th>std</th>\n",
       "      <td>218.081158</td>\n",
       "      <td>NaN</td>\n",
       "      <td>96.759853</td>\n",
       "      <td>1713.600303</td>\n",
       "    </tr>\n",
       "  </tbody>\n",
       "</table>\n",
       "</div>"
      ],
      "text/plain": [
       "            Quantity                    InvoiceDate      UnitPrice   \n",
       "count  541909.000000                         541909  541909.000000  \\\n",
       "mean        9.552250  2011-07-04 13:34:57.156386048       4.611114   \n",
       "min    -80995.000000            2010-12-01 08:26:00  -11062.060000   \n",
       "25%         1.000000            2011-03-28 11:34:00       1.250000   \n",
       "50%         3.000000            2011-07-19 17:17:00       2.080000   \n",
       "75%        10.000000            2011-10-19 11:27:00       4.130000   \n",
       "max     80995.000000            2011-12-09 12:50:00   38970.000000   \n",
       "std       218.081158                            NaN      96.759853   \n",
       "\n",
       "          CustomerID  \n",
       "count  406829.000000  \n",
       "mean    15287.690570  \n",
       "min     12346.000000  \n",
       "25%     13953.000000  \n",
       "50%     15152.000000  \n",
       "75%     16791.000000  \n",
       "max     18287.000000  \n",
       "std      1713.600303  "
      ]
     },
     "execution_count": 5,
     "metadata": {},
     "output_type": "execute_result"
    }
   ],
   "source": [
    "df.describe()"
   ]
  },
  {
   "cell_type": "code",
   "execution_count": 6,
   "id": "11996322",
   "metadata": {},
   "outputs": [
    {
     "data": {
      "text/plain": [
       "(541909, 8)"
      ]
     },
     "execution_count": 6,
     "metadata": {},
     "output_type": "execute_result"
    }
   ],
   "source": [
    "df.shape"
   ]
  },
  {
   "cell_type": "markdown",
   "id": "e5bb75ef",
   "metadata": {},
   "source": [
    "### 4a. Null Values"
   ]
  },
  {
   "cell_type": "code",
   "execution_count": 7,
   "id": "e3afb07c",
   "metadata": {},
   "outputs": [
    {
     "data": {
      "text/plain": [
       "InvoiceNo           0\n",
       "StockCode           0\n",
       "Description      1454\n",
       "Quantity            0\n",
       "InvoiceDate         0\n",
       "UnitPrice           0\n",
       "CustomerID     135080\n",
       "Country             0\n",
       "dtype: int64"
      ]
     },
     "execution_count": 7,
     "metadata": {},
     "output_type": "execute_result"
    }
   ],
   "source": [
    "df.isnull().sum()"
   ]
  },
  {
   "cell_type": "markdown",
   "id": "1e6d2da0",
   "metadata": {},
   "source": [
    "### 4b. Unique Values"
   ]
  },
  {
   "cell_type": "code",
   "execution_count": 8,
   "id": "79fbcf01",
   "metadata": {},
   "outputs": [
    {
     "data": {
      "text/plain": [
       "InvoiceNo      25900\n",
       "StockCode       4070\n",
       "Description     4223\n",
       "Quantity         722\n",
       "InvoiceDate    23260\n",
       "UnitPrice       1630\n",
       "CustomerID      4372\n",
       "Country           38\n",
       "dtype: int64"
      ]
     },
     "execution_count": 8,
     "metadata": {},
     "output_type": "execute_result"
    }
   ],
   "source": [
    "df.nunique()"
   ]
  },
  {
   "cell_type": "markdown",
   "id": "1984092c",
   "metadata": {},
   "source": [
    "## 5. Preprocessing"
   ]
  },
  {
   "cell_type": "code",
   "execution_count": 9,
   "id": "f0ec25f3",
   "metadata": {},
   "outputs": [
    {
     "data": {
      "text/plain": [
       "InvoiceNo       0.000000\n",
       "StockCode       0.000000\n",
       "Description     0.268311\n",
       "Quantity        0.000000\n",
       "InvoiceDate     0.000000\n",
       "UnitPrice       0.000000\n",
       "CustomerID     24.926694\n",
       "Country         0.000000\n",
       "dtype: float64"
      ]
     },
     "execution_count": 9,
     "metadata": {},
     "output_type": "execute_result"
    }
   ],
   "source": [
    "df.isnull().sum()/df.shape[0]*100"
   ]
  },
  {
   "cell_type": "markdown",
   "id": "e56c02dd",
   "metadata": {},
   "source": [
    "### 5a. Duplicate values"
   ]
  },
  {
   "cell_type": "code",
   "execution_count": 10,
   "id": "793a22e8",
   "metadata": {},
   "outputs": [
    {
     "data": {
      "text/plain": [
       "array(['United Kingdom', 'France', 'Australia', 'Netherlands', 'Germany',\n",
       "       'Norway', 'EIRE', 'Switzerland', 'Spain', 'Poland', 'Portugal',\n",
       "       'Italy', 'Belgium', 'Lithuania', 'Japan', 'Iceland',\n",
       "       'Channel Islands', 'Denmark', 'Cyprus', 'Sweden', 'Austria',\n",
       "       'Israel', 'Finland', 'Bahrain', 'Greece', 'Hong Kong', 'Singapore',\n",
       "       'Lebanon', 'United Arab Emirates', 'Saudi Arabia',\n",
       "       'Czech Republic', 'Canada', 'Unspecified', 'Brazil', 'USA',\n",
       "       'European Community', 'Malta', 'RSA'], dtype=object)"
      ]
     },
     "execution_count": 10,
     "metadata": {},
     "output_type": "execute_result"
    }
   ],
   "source": [
    "df.Country.unique()"
   ]
  },
  {
   "cell_type": "markdown",
   "id": "372ad6a4",
   "metadata": {},
   "source": [
    "### 5b. Null values in Customer ID\n",
    "\n",
    "- Check for null values for customer ID\n",
    "- For visualization purposes fill null values with \"unknown\"/\"unregistered\" customers"
   ]
  },
  {
   "cell_type": "code",
   "execution_count": 11,
   "id": "af262df1",
   "metadata": {},
   "outputs": [],
   "source": [
    "null_inv = df[df['CustomerID'].isna()].InvoiceNo.unique().tolist()"
   ]
  },
  {
   "cell_type": "code",
   "execution_count": 12,
   "id": "62e4c496",
   "metadata": {},
   "outputs": [],
   "source": [
    "df['CustomerID'].fillna(\"unknown\", inplace=True)"
   ]
  },
  {
   "cell_type": "code",
   "execution_count": 13,
   "id": "0dca48a5",
   "metadata": {},
   "outputs": [],
   "source": [
    "df.query('~CustomerID.isna()')['CustomerID'] = df.query('~CustomerID.isna()')['CustomerID'].apply(lambda x: str(x)[:-2]).tolist()"
   ]
  },
  {
   "cell_type": "code",
   "execution_count": 14,
   "id": "ff2dc6a2",
   "metadata": {},
   "outputs": [],
   "source": [
    "df['Description'].fillna('no description', inplace=True)"
   ]
  },
  {
   "cell_type": "markdown",
   "id": "bfd6dc27",
   "metadata": {},
   "source": [
    "## 6. Visualisations"
   ]
  },
  {
   "cell_type": "markdown",
   "id": "334dedd6",
   "metadata": {},
   "source": [
    "## 7. Analysis"
   ]
  },
  {
   "cell_type": "markdown",
   "id": "b9407024",
   "metadata": {},
   "source": [
    "### 7a. Lifetime Value (LTV)"
   ]
  },
  {
   "cell_type": "code",
   "execution_count": 77,
   "id": "2f36932f",
   "metadata": {},
   "outputs": [],
   "source": [
    "ltv = df.query('CustomerID!=\"unknown\"')\n",
    "\n",
    "ltv['InvoiceNo'] = [str(i) for i in ltv['InvoiceNo']]\n",
    "\n",
    "ltv['Status'] = [\"Cancelled\" if len(i)>6 else \"Completed\" for i in ltv['InvoiceNo']]"
   ]
  },
  {
   "cell_type": "code",
   "execution_count": 98,
   "id": "9ea2b822",
   "metadata": {},
   "outputs": [],
   "source": [
    "df_ltv = ltv.query('Status==\"Completed\"').groupby('CustomerID').apply(lambda s: pd.Series({\n",
    "    'Revenue' : round((s['UnitPrice'].sum()*s['Quantity'].sum())),\n",
    "    'Avg_revenue' : round((s['UnitPrice'].sum()*s['Quantity'].sum()).mean()),\n",
    "    'Transactions' : s['InvoiceNo'].count(),\n",
    "    'Retention_time' : (s['InvoiceDate'].max() - s['InvoiceDate'].min()).days\n",
    "})).reset_index()"
   ]
  },
  {
   "cell_type": "code",
   "execution_count": 99,
   "id": "c643d805",
   "metadata": {},
   "outputs": [],
   "source": [
    "df_ltv['Retention_time'] = [1 if i==0 else i for i in df_ltv['Retention_time']]\n",
    "df_ltv['Retention_years'] = round(df_ltv['Retention_time']/365, 3)\n",
    "df_ltv['Retention_month'] = round(df_ltv['Retention_time']/30)"
   ]
  },
  {
   "cell_type": "code",
   "execution_count": 100,
   "id": "47b2229c",
   "metadata": {},
   "outputs": [
    {
     "data": {
      "text/html": [
       "<div>\n",
       "<style scoped>\n",
       "    .dataframe tbody tr th:only-of-type {\n",
       "        vertical-align: middle;\n",
       "    }\n",
       "\n",
       "    .dataframe tbody tr th {\n",
       "        vertical-align: top;\n",
       "    }\n",
       "\n",
       "    .dataframe thead th {\n",
       "        text-align: right;\n",
       "    }\n",
       "</style>\n",
       "<table border=\"1\" class=\"dataframe\">\n",
       "  <thead>\n",
       "    <tr style=\"text-align: right;\">\n",
       "      <th></th>\n",
       "      <th>CV</th>\n",
       "      <th>CLTV</th>\n",
       "    </tr>\n",
       "    <tr>\n",
       "      <th>CustomerID</th>\n",
       "      <th></th>\n",
       "      <th></th>\n",
       "    </tr>\n",
       "  </thead>\n",
       "  <tbody>\n",
       "    <tr>\n",
       "      <th>12346.0</th>\n",
       "      <td>77184</td>\n",
       "      <td>232</td>\n",
       "    </tr>\n",
       "    <tr>\n",
       "      <th>12347.0</th>\n",
       "      <td>1182814</td>\n",
       "      <td>1182814</td>\n",
       "    </tr>\n",
       "    <tr>\n",
       "      <th>12348.0</th>\n",
       "      <td>418360</td>\n",
       "      <td>323392</td>\n",
       "    </tr>\n",
       "    <tr>\n",
       "      <th>12349.0</th>\n",
       "      <td>381818</td>\n",
       "      <td>1145</td>\n",
       "    </tr>\n",
       "    <tr>\n",
       "      <th>12350.0</th>\n",
       "      <td>12864</td>\n",
       "      <td>39</td>\n",
       "    </tr>\n",
       "    <tr>\n",
       "      <th>...</th>\n",
       "      <td>...</td>\n",
       "      <td>...</td>\n",
       "    </tr>\n",
       "    <tr>\n",
       "      <th>18280.0</th>\n",
       "      <td>2144</td>\n",
       "      <td>6</td>\n",
       "    </tr>\n",
       "    <tr>\n",
       "      <th>18281.0</th>\n",
       "      <td>2125</td>\n",
       "      <td>6</td>\n",
       "    </tr>\n",
       "    <tr>\n",
       "      <th>18282.0</th>\n",
       "      <td>6426</td>\n",
       "      <td>2076</td>\n",
       "    </tr>\n",
       "    <tr>\n",
       "      <th>18283.0</th>\n",
       "      <td>1705639</td>\n",
       "      <td>1555543</td>\n",
       "    </tr>\n",
       "    <tr>\n",
       "      <th>18287.0</th>\n",
       "      <td>165816</td>\n",
       "      <td>71798</td>\n",
       "    </tr>\n",
       "  </tbody>\n",
       "</table>\n",
       "<p>4339 rows × 2 columns</p>\n",
       "</div>"
      ],
      "text/plain": [
       "                 CV     CLTV\n",
       "CustomerID                  \n",
       "12346.0       77184      232\n",
       "12347.0     1182814  1182814\n",
       "12348.0      418360   323392\n",
       "12349.0      381818     1145\n",
       "12350.0       12864       39\n",
       "...             ...      ...\n",
       "18280.0        2144        6\n",
       "18281.0        2125        6\n",
       "18282.0        6426     2076\n",
       "18283.0     1705639  1555543\n",
       "18287.0      165816    71798\n",
       "\n",
       "[4339 rows x 2 columns]"
      ]
     },
     "execution_count": 100,
     "metadata": {},
     "output_type": "execute_result"
    }
   ],
   "source": [
    "df_ltv.groupby('CustomerID').apply(lambda s: pd.Series({\n",
    "    'CV': round((s['Revenue'].sum()/s['Transactions'].sum())*s['Transactions'].mean()),\n",
    "    'CLTV': round((s['Revenue'].sum()/s['Transactions'].sum()*s['Transactions'].mean())*s['Retention_years'].mean())\n",
    "}))"
   ]
  },
  {
   "cell_type": "code",
   "execution_count": 101,
   "id": "5879626b",
   "metadata": {},
   "outputs": [
    {
     "data": {
      "text/html": [
       "<div>\n",
       "<style scoped>\n",
       "    .dataframe tbody tr th:only-of-type {\n",
       "        vertical-align: middle;\n",
       "    }\n",
       "\n",
       "    .dataframe tbody tr th {\n",
       "        vertical-align: top;\n",
       "    }\n",
       "\n",
       "    .dataframe thead th {\n",
       "        text-align: right;\n",
       "    }\n",
       "</style>\n",
       "<table border=\"1\" class=\"dataframe\">\n",
       "  <thead>\n",
       "    <tr style=\"text-align: right;\">\n",
       "      <th></th>\n",
       "      <th>CustomerID</th>\n",
       "      <th>Revenue</th>\n",
       "      <th>Avg_revenue</th>\n",
       "      <th>Transactions</th>\n",
       "      <th>Retention_time</th>\n",
       "      <th>Retention_years</th>\n",
       "      <th>Retention_month</th>\n",
       "    </tr>\n",
       "  </thead>\n",
       "  <tbody>\n",
       "    <tr>\n",
       "      <th>0</th>\n",
       "      <td>12346.0</td>\n",
       "      <td>77184</td>\n",
       "      <td>77184</td>\n",
       "      <td>1</td>\n",
       "      <td>1</td>\n",
       "      <td>0.003</td>\n",
       "      <td>0.0</td>\n",
       "    </tr>\n",
       "    <tr>\n",
       "      <th>1</th>\n",
       "      <td>12347.0</td>\n",
       "      <td>1182814</td>\n",
       "      <td>1182814</td>\n",
       "      <td>182</td>\n",
       "      <td>365</td>\n",
       "      <td>1.000</td>\n",
       "      <td>12.0</td>\n",
       "    </tr>\n",
       "    <tr>\n",
       "      <th>2</th>\n",
       "      <td>12348.0</td>\n",
       "      <td>418360</td>\n",
       "      <td>418360</td>\n",
       "      <td>31</td>\n",
       "      <td>282</td>\n",
       "      <td>0.773</td>\n",
       "      <td>9.0</td>\n",
       "    </tr>\n",
       "    <tr>\n",
       "      <th>3</th>\n",
       "      <td>12349.0</td>\n",
       "      <td>381818</td>\n",
       "      <td>381818</td>\n",
       "      <td>73</td>\n",
       "      <td>1</td>\n",
       "      <td>0.003</td>\n",
       "      <td>0.0</td>\n",
       "    </tr>\n",
       "    <tr>\n",
       "      <th>4</th>\n",
       "      <td>12350.0</td>\n",
       "      <td>12864</td>\n",
       "      <td>12864</td>\n",
       "      <td>17</td>\n",
       "      <td>1</td>\n",
       "      <td>0.003</td>\n",
       "      <td>0.0</td>\n",
       "    </tr>\n",
       "  </tbody>\n",
       "</table>\n",
       "</div>"
      ],
      "text/plain": [
       "   CustomerID  Revenue  Avg_revenue  Transactions  Retention_time   \n",
       "0     12346.0    77184        77184             1               1  \\\n",
       "1     12347.0  1182814      1182814           182             365   \n",
       "2     12348.0   418360       418360            31             282   \n",
       "3     12349.0   381818       381818            73               1   \n",
       "4     12350.0    12864        12864            17               1   \n",
       "\n",
       "   Retention_years  Retention_month  \n",
       "0            0.003              0.0  \n",
       "1            1.000             12.0  \n",
       "2            0.773              9.0  \n",
       "3            0.003              0.0  \n",
       "4            0.003              0.0  "
      ]
     },
     "execution_count": 101,
     "metadata": {},
     "output_type": "execute_result"
    }
   ],
   "source": [
    "df_ltv.head()"
   ]
  },
  {
   "cell_type": "code",
   "execution_count": 102,
   "id": "19ef9402",
   "metadata": {
    "scrolled": true
   },
   "outputs": [
    {
     "name": "stdout",
     "output_type": "stream",
     "text": [
      "Customer Value : 1999346\n",
      "Customer Lifespan : 0.36 years or 4 months\n",
      "CLTV : 716544\n"
     ]
    }
   ],
   "source": [
    "print(\"Customer Value :\", round((df_ltv['Revenue'].sum()/df_ltv['Transactions'].sum())*df_ltv['Transactions'].mean()))\n",
    "print('Customer Lifespan :', round(df_ltv['Retention_years'].mean(), 2), 'years or', round(df_ltv['Retention_month'].mean()), 'months')\n",
    "print(\"CLTV :\", round((df_ltv['Revenue'].sum()/df_ltv['Transactions'].sum()*df_ltv['Transactions'].mean())*df_ltv['Retention_years'].mean()))"
   ]
  },
  {
   "cell_type": "markdown",
   "id": "376a98a5",
   "metadata": {},
   "source": [
    "### 7b. Average Revenue Per User (ARPU)"
   ]
  },
  {
   "cell_type": "code",
   "execution_count": 19,
   "id": "d22e0d0a",
   "metadata": {},
   "outputs": [
    {
     "name": "stdout",
     "output_type": "stream",
     "text": [
      "ARPU : 2366949\n"
     ]
    }
   ],
   "source": [
    "print(\"ARPU :\",round(df_ltv['Revenue'].sum()/df_ltv.shape[0]))"
   ]
  },
  {
   "cell_type": "markdown",
   "id": "c4504e2a",
   "metadata": {},
   "source": [
    "### 7c. Average Purchase Value"
   ]
  },
  {
   "cell_type": "code",
   "execution_count": 24,
   "id": "420230a1",
   "metadata": {},
   "outputs": [
    {
     "name": "stdout",
     "output_type": "stream",
     "text": [
      "APV : 25436\n"
     ]
    }
   ],
   "source": [
    "print('APV :', round(df_ltv['Revenue'].sum()/df_ltv['Transactions'].sum()))"
   ]
  },
  {
   "cell_type": "markdown",
   "id": "d146d602",
   "metadata": {},
   "source": [
    "### 7d. Average Purchase Frequency Rate"
   ]
  },
  {
   "cell_type": "code",
   "execution_count": 23,
   "id": "70ca2702",
   "metadata": {},
   "outputs": [
    {
     "name": "stdout",
     "output_type": "stream",
     "text": [
      "APFR : 93\n"
     ]
    }
   ],
   "source": [
    "print('APFR :', round(df_ltv['Transactions'].sum()/df_ltv.shape[0]))"
   ]
  },
  {
   "cell_type": "markdown",
   "id": "7362dc06",
   "metadata": {},
   "source": [
    "### 7e. Repeat Purchase Rate (RPR)"
   ]
  },
  {
   "cell_type": "code",
   "execution_count": 106,
   "id": "50ce7c68",
   "metadata": {},
   "outputs": [
    {
     "name": "stdout",
     "output_type": "stream",
     "text": [
      "RPR : 0.64\n"
     ]
    }
   ],
   "source": [
    "print('RPR :', round(df_ltv.query('Retention_time>1')['CustomerID'].count()/df_ltv['CustomerID'].count(), 2))"
   ]
  },
  {
   "cell_type": "code",
   "execution_count": null,
   "id": "2e51e6ee",
   "metadata": {},
   "outputs": [],
   "source": []
  }
 ],
 "metadata": {
  "kernelspec": {
   "display_name": "Python 3 (ipykernel)",
   "language": "python",
   "name": "python3"
  },
  "language_info": {
   "codemirror_mode": {
    "name": "ipython",
    "version": 3
   },
   "file_extension": ".py",
   "mimetype": "text/x-python",
   "name": "python",
   "nbconvert_exporter": "python",
   "pygments_lexer": "ipython3",
   "version": "3.9.12"
  }
 },
 "nbformat": 4,
 "nbformat_minor": 5
}
